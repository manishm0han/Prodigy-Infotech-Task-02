{
 "cells": [
  {
   "cell_type": "markdown",
   "id": "054b6075",
   "metadata": {},
   "source": [
    "# Customer Segmentation Kmeans\n",
    "\n",
    "### Prodigy Infotech\n",
    "\n",
    "#### Intership Task 2"
   ]
  },
  {
   "cell_type": "markdown",
   "id": "1005f7ec",
   "metadata": {},
   "source": [
    "Create a K-means clustering algorithm to group customers of a retail store based on their purchase history.\n",
    "\n",
    "Dataset :- https://www.kaggle.com/datasets/vjchoudhary7/customer-segmentation-tutorial-in-python"
   ]
  },
  {
   "cell_type": "code",
   "execution_count": 1,
   "id": "8d9f7370",
   "metadata": {},
   "outputs": [],
   "source": [
    "# libraries \n",
    "import numpy as np \n",
    "import pandas as pd \n",
    "import matplotlib.pyplot as plt\n",
    "import seaborn as sns\n",
    "from sklearn.cluster import KMeans\n",
    "from sklearn.preprocessing import StandardScaler\n",
    "import warnings\n",
    "warnings.filterwarnings('ignore')"
   ]
  },
  {
   "cell_type": "code",
   "execution_count": 2,
   "id": "293cc1a9",
   "metadata": {
    "scrolled": false
   },
   "outputs": [
    {
     "data": {
      "text/html": [
       "<div>\n",
       "<style scoped>\n",
       "    .dataframe tbody tr th:only-of-type {\n",
       "        vertical-align: middle;\n",
       "    }\n",
       "\n",
       "    .dataframe tbody tr th {\n",
       "        vertical-align: top;\n",
       "    }\n",
       "\n",
       "    .dataframe thead th {\n",
       "        text-align: right;\n",
       "    }\n",
       "</style>\n",
       "<table border=\"1\" class=\"dataframe\">\n",
       "  <thead>\n",
       "    <tr style=\"text-align: right;\">\n",
       "      <th></th>\n",
       "      <th>CustomerID</th>\n",
       "      <th>Gender</th>\n",
       "      <th>Age</th>\n",
       "      <th>Annual Income (k$)</th>\n",
       "      <th>Spending Score (1-100)</th>\n",
       "    </tr>\n",
       "  </thead>\n",
       "  <tbody>\n",
       "    <tr>\n",
       "      <th>0</th>\n",
       "      <td>1</td>\n",
       "      <td>Male</td>\n",
       "      <td>19</td>\n",
       "      <td>15</td>\n",
       "      <td>39</td>\n",
       "    </tr>\n",
       "    <tr>\n",
       "      <th>1</th>\n",
       "      <td>2</td>\n",
       "      <td>Male</td>\n",
       "      <td>21</td>\n",
       "      <td>15</td>\n",
       "      <td>81</td>\n",
       "    </tr>\n",
       "    <tr>\n",
       "      <th>2</th>\n",
       "      <td>3</td>\n",
       "      <td>Female</td>\n",
       "      <td>20</td>\n",
       "      <td>16</td>\n",
       "      <td>6</td>\n",
       "    </tr>\n",
       "    <tr>\n",
       "      <th>3</th>\n",
       "      <td>4</td>\n",
       "      <td>Female</td>\n",
       "      <td>23</td>\n",
       "      <td>16</td>\n",
       "      <td>77</td>\n",
       "    </tr>\n",
       "    <tr>\n",
       "      <th>4</th>\n",
       "      <td>5</td>\n",
       "      <td>Female</td>\n",
       "      <td>31</td>\n",
       "      <td>17</td>\n",
       "      <td>40</td>\n",
       "    </tr>\n",
       "  </tbody>\n",
       "</table>\n",
       "</div>"
      ],
      "text/plain": [
       "   CustomerID  Gender  Age  Annual Income (k$)  Spending Score (1-100)\n",
       "0           1    Male   19                  15                      39\n",
       "1           2    Male   21                  15                      81\n",
       "2           3  Female   20                  16                       6\n",
       "3           4  Female   23                  16                      77\n",
       "4           5  Female   31                  17                      40"
      ]
     },
     "execution_count": 2,
     "metadata": {},
     "output_type": "execute_result"
    }
   ],
   "source": [
    "# data\n",
    "data=pd.read_csv(\"Mall_Customers.csv\")\n",
    "data.head()"
   ]
  },
  {
   "cell_type": "code",
   "execution_count": 3,
   "id": "18ddc806",
   "metadata": {},
   "outputs": [],
   "source": [
    "# copy of data\n",
    "df=data.copy()"
   ]
  },
  {
   "cell_type": "code",
   "execution_count": 4,
   "id": "25535eab",
   "metadata": {
    "scrolled": true
   },
   "outputs": [
    {
     "data": {
      "text/plain": [
       "CustomerID                0\n",
       "Gender                    0\n",
       "Age                       0\n",
       "Annual Income (k$)        0\n",
       "Spending Score (1-100)    0\n",
       "dtype: int64"
      ]
     },
     "execution_count": 4,
     "metadata": {},
     "output_type": "execute_result"
    }
   ],
   "source": [
    "# null values \n",
    "df.isnull().sum()"
   ]
  },
  {
   "cell_type": "raw",
   "id": "25a6db26",
   "metadata": {},
   "source": [
    "there are no null values in the data "
   ]
  },
  {
   "cell_type": "code",
   "execution_count": 5,
   "id": "31fdb27b",
   "metadata": {},
   "outputs": [
    {
     "data": {
      "text/plain": [
       "0"
      ]
     },
     "execution_count": 5,
     "metadata": {},
     "output_type": "execute_result"
    }
   ],
   "source": [
    "# duplicates\n",
    "df.duplicated().sum()"
   ]
  },
  {
   "cell_type": "raw",
   "id": "f849b10b",
   "metadata": {},
   "source": [
    " there are no duplicates in the data "
   ]
  },
  {
   "cell_type": "code",
   "execution_count": 6,
   "id": "0907cd2f",
   "metadata": {
    "scrolled": true
   },
   "outputs": [
    {
     "name": "stdout",
     "output_type": "stream",
     "text": [
      "<class 'pandas.core.frame.DataFrame'>\n",
      "RangeIndex: 200 entries, 0 to 199\n",
      "Data columns (total 5 columns):\n",
      " #   Column                  Non-Null Count  Dtype \n",
      "---  ------                  --------------  ----- \n",
      " 0   CustomerID              200 non-null    int64 \n",
      " 1   Gender                  200 non-null    object\n",
      " 2   Age                     200 non-null    int64 \n",
      " 3   Annual Income (k$)      200 non-null    int64 \n",
      " 4   Spending Score (1-100)  200 non-null    int64 \n",
      "dtypes: int64(4), object(1)\n",
      "memory usage: 7.9+ KB\n"
     ]
    }
   ],
   "source": [
    "# information\n",
    "df.info()"
   ]
  },
  {
   "cell_type": "raw",
   "id": "020c1a79",
   "metadata": {},
   "source": [
    "data has 4 numeric and 1 catagoric columns\n",
    "data has 200 entries"
   ]
  },
  {
   "cell_type": "code",
   "execution_count": 7,
   "id": "5c8a791d",
   "metadata": {
    "scrolled": true
   },
   "outputs": [
    {
     "data": {
      "text/html": [
       "<div>\n",
       "<style scoped>\n",
       "    .dataframe tbody tr th:only-of-type {\n",
       "        vertical-align: middle;\n",
       "    }\n",
       "\n",
       "    .dataframe tbody tr th {\n",
       "        vertical-align: top;\n",
       "    }\n",
       "\n",
       "    .dataframe thead th {\n",
       "        text-align: right;\n",
       "    }\n",
       "</style>\n",
       "<table border=\"1\" class=\"dataframe\">\n",
       "  <thead>\n",
       "    <tr style=\"text-align: right;\">\n",
       "      <th></th>\n",
       "      <th>CustomerID</th>\n",
       "      <th>Age</th>\n",
       "      <th>Annual Income (k$)</th>\n",
       "      <th>Spending Score (1-100)</th>\n",
       "    </tr>\n",
       "  </thead>\n",
       "  <tbody>\n",
       "    <tr>\n",
       "      <th>count</th>\n",
       "      <td>200.000000</td>\n",
       "      <td>200.000000</td>\n",
       "      <td>200.000000</td>\n",
       "      <td>200.000000</td>\n",
       "    </tr>\n",
       "    <tr>\n",
       "      <th>mean</th>\n",
       "      <td>100.500000</td>\n",
       "      <td>38.850000</td>\n",
       "      <td>60.560000</td>\n",
       "      <td>50.200000</td>\n",
       "    </tr>\n",
       "    <tr>\n",
       "      <th>std</th>\n",
       "      <td>57.879185</td>\n",
       "      <td>13.969007</td>\n",
       "      <td>26.264721</td>\n",
       "      <td>25.823522</td>\n",
       "    </tr>\n",
       "    <tr>\n",
       "      <th>min</th>\n",
       "      <td>1.000000</td>\n",
       "      <td>18.000000</td>\n",
       "      <td>15.000000</td>\n",
       "      <td>1.000000</td>\n",
       "    </tr>\n",
       "    <tr>\n",
       "      <th>25%</th>\n",
       "      <td>50.750000</td>\n",
       "      <td>28.750000</td>\n",
       "      <td>41.500000</td>\n",
       "      <td>34.750000</td>\n",
       "    </tr>\n",
       "    <tr>\n",
       "      <th>50%</th>\n",
       "      <td>100.500000</td>\n",
       "      <td>36.000000</td>\n",
       "      <td>61.500000</td>\n",
       "      <td>50.000000</td>\n",
       "    </tr>\n",
       "    <tr>\n",
       "      <th>75%</th>\n",
       "      <td>150.250000</td>\n",
       "      <td>49.000000</td>\n",
       "      <td>78.000000</td>\n",
       "      <td>73.000000</td>\n",
       "    </tr>\n",
       "    <tr>\n",
       "      <th>max</th>\n",
       "      <td>200.000000</td>\n",
       "      <td>70.000000</td>\n",
       "      <td>137.000000</td>\n",
       "      <td>99.000000</td>\n",
       "    </tr>\n",
       "  </tbody>\n",
       "</table>\n",
       "</div>"
      ],
      "text/plain": [
       "       CustomerID         Age  Annual Income (k$)  Spending Score (1-100)\n",
       "count  200.000000  200.000000          200.000000              200.000000\n",
       "mean   100.500000   38.850000           60.560000               50.200000\n",
       "std     57.879185   13.969007           26.264721               25.823522\n",
       "min      1.000000   18.000000           15.000000                1.000000\n",
       "25%     50.750000   28.750000           41.500000               34.750000\n",
       "50%    100.500000   36.000000           61.500000               50.000000\n",
       "75%    150.250000   49.000000           78.000000               73.000000\n",
       "max    200.000000   70.000000          137.000000               99.000000"
      ]
     },
     "execution_count": 7,
     "metadata": {},
     "output_type": "execute_result"
    }
   ],
   "source": [
    "# description\n",
    "df.describe()"
   ]
  },
  {
   "cell_type": "raw",
   "id": "a9c9c414",
   "metadata": {},
   "source": [
    "data has no extreme outliers"
   ]
  },
  {
   "cell_type": "code",
   "execution_count": 8,
   "id": "d87167ab",
   "metadata": {
    "scrolled": true
   },
   "outputs": [
    {
     "data": {
      "text/html": [
       "<div>\n",
       "<style scoped>\n",
       "    .dataframe tbody tr th:only-of-type {\n",
       "        vertical-align: middle;\n",
       "    }\n",
       "\n",
       "    .dataframe tbody tr th {\n",
       "        vertical-align: top;\n",
       "    }\n",
       "\n",
       "    .dataframe thead th {\n",
       "        text-align: right;\n",
       "    }\n",
       "</style>\n",
       "<table border=\"1\" class=\"dataframe\">\n",
       "  <thead>\n",
       "    <tr style=\"text-align: right;\">\n",
       "      <th></th>\n",
       "      <th>Gender</th>\n",
       "    </tr>\n",
       "  </thead>\n",
       "  <tbody>\n",
       "    <tr>\n",
       "      <th>count</th>\n",
       "      <td>200</td>\n",
       "    </tr>\n",
       "    <tr>\n",
       "      <th>unique</th>\n",
       "      <td>2</td>\n",
       "    </tr>\n",
       "    <tr>\n",
       "      <th>top</th>\n",
       "      <td>Female</td>\n",
       "    </tr>\n",
       "    <tr>\n",
       "      <th>freq</th>\n",
       "      <td>112</td>\n",
       "    </tr>\n",
       "  </tbody>\n",
       "</table>\n",
       "</div>"
      ],
      "text/plain": [
       "        Gender\n",
       "count      200\n",
       "unique       2\n",
       "top     Female\n",
       "freq       112"
      ]
     },
     "execution_count": 8,
     "metadata": {},
     "output_type": "execute_result"
    }
   ],
   "source": [
    "df.describe(include=object)"
   ]
  },
  {
   "cell_type": "code",
   "execution_count": 9,
   "id": "d67ca792",
   "metadata": {},
   "outputs": [
    {
     "data": {
      "text/plain": [
       "Female    112\n",
       "Male       88\n",
       "Name: Gender, dtype: int64"
      ]
     },
     "execution_count": 9,
     "metadata": {},
     "output_type": "execute_result"
    }
   ],
   "source": [
    "df.Gender.value_counts()"
   ]
  },
  {
   "cell_type": "raw",
   "id": "6a0a3897",
   "metadata": {},
   "source": [
    "112 female and 88 male"
   ]
  },
  {
   "cell_type": "markdown",
   "id": "fb1deca5",
   "metadata": {},
   "source": [
    "### Visualization of the data "
   ]
  },
  {
   "cell_type": "code",
   "execution_count": 10,
   "id": "3ecd350f",
   "metadata": {
    "scrolled": false
   },
   "outputs": [
    {
     "data": {
      "image/png": "[encoded data removed]",
      "text/plain": [
       "<Figure size 640x480 with 3 Axes>"
      ]
     },
     "metadata": {},
     "output_type": "display_data"
    }
   ],
   "source": [
    "df[['Age','Annual Income (k$)','Spending Score (1-100)']].plot(kind='kde',subplots=True)\n",
    "plt.show()"
   ]
  },
  {
   "cell_type": "code",
   "execution_count": 11,
   "id": "213abdba",
   "metadata": {},
   "outputs": [
    {
     "data": {
      "text/plain": [
       "0    32\n",
       "Name: Age, dtype: int64"
      ]
     },
     "execution_count": 11,
     "metadata": {},
     "output_type": "execute_result"
    }
   ],
   "source": [
    "df.Age.mode()"
   ]
  },
  {
   "cell_type": "code",
   "execution_count": 12,
   "id": "dbfe2ce7",
   "metadata": {},
   "outputs": [
    {
     "data": {
      "text/plain": [
       "0    54\n",
       "1    78\n",
       "Name: Annual Income (k$), dtype: int64"
      ]
     },
     "execution_count": 12,
     "metadata": {},
     "output_type": "execute_result"
    }
   ],
   "source": [
    "df['Annual Income (k$)'].mode()"
   ]
  },
  {
   "cell_type": "code",
   "execution_count": 13,
   "id": "432bddd4",
   "metadata": {},
   "outputs": [
    {
     "data": {
      "text/plain": [
       "0    42\n",
       "Name: Spending Score (1-100), dtype: int64"
      ]
     },
     "execution_count": 13,
     "metadata": {},
     "output_type": "execute_result"
    }
   ],
   "source": [
    "df['Spending Score (1-100)'].mode()"
   ]
  },
  {
   "cell_type": "raw",
   "id": "f5242e65",
   "metadata": {},
   "source": [
    "density of age is high around 32\n",
    "density of wage is high around 78k\n",
    "density of spending score is high around 42"
   ]
  },
  {
   "cell_type": "code",
   "execution_count": 14,
   "id": "ff06a156",
   "metadata": {
    "scrolled": false
   },
   "outputs": [
    {
     "data": {
      "image/png": "[encoded data removed]",
      "text/plain": [
       "<Figure size 640x480 with 1 Axes>"
      ]
     },
     "metadata": {},
     "output_type": "display_data"
    }
   ],
   "source": [
    "ax=sns.countplot(x=df['Gender'])\n",
    "for i in ax.patches:\n",
    "    x=i.get_bbox().get_points()[:,0]\n",
    "    y=i.get_bbox().get_points()[1,1]\n",
    "    ax.annotate(\"{:.3g}%\".format(100.*y/len(df)), (x.mean(), y), ha='center', va='bottom')\n",
    "plt.show()"
   ]
  },
  {
   "cell_type": "raw",
   "id": "a3d1b835",
   "metadata": {},
   "source": [
    "56% are females\n",
    "44% are males"
   ]
  },
  {
   "cell_type": "markdown",
   "id": "41fe8a5f",
   "metadata": {},
   "source": [
    " "
   ]
  },
  {
   "cell_type": "code",
   "execution_count": 15,
   "id": "7693f87f",
   "metadata": {},
   "outputs": [
    {
     "data": {
      "image/png": "[encoded data removed]",
      "text/plain": [
       "<Figure size 1000x1000 with 20 Axes>"
      ]
     },
     "metadata": {},
     "output_type": "display_data"
    }
   ],
   "source": [
    "sns.pairplot(df, diag_kind='kde')\n",
    "plt.show()"
   ]
  },
  {
   "cell_type": "raw",
   "id": "d87b8c09",
   "metadata": {},
   "source": [
    "expected clusters = 4"
   ]
  },
  {
   "cell_type": "markdown",
   "id": "7c3f6973",
   "metadata": {},
   "source": [
    "### Scaling"
   ]
  },
  {
   "cell_type": "code",
   "execution_count": 16,
   "id": "e69a1169",
   "metadata": {},
   "outputs": [
    {
     "data": {
      "text/html": [
       "<div>\n",
       "<style scoped>\n",
       "    .dataframe tbody tr th:only-of-type {\n",
       "        vertical-align: middle;\n",
       "    }\n",
       "\n",
       "    .dataframe tbody tr th {\n",
       "        vertical-align: top;\n",
       "    }\n",
       "\n",
       "    .dataframe thead th {\n",
       "        text-align: right;\n",
       "    }\n",
       "</style>\n",
       "<table border=\"1\" class=\"dataframe\">\n",
       "  <thead>\n",
       "    <tr style=\"text-align: right;\">\n",
       "      <th></th>\n",
       "      <th>Age</th>\n",
       "      <th>Annual Income</th>\n",
       "      <th>Spending Score</th>\n",
       "    </tr>\n",
       "  </thead>\n",
       "  <tbody>\n",
       "    <tr>\n",
       "      <th>0</th>\n",
       "      <td>-1.424569</td>\n",
       "      <td>-1.738999</td>\n",
       "      <td>-0.434801</td>\n",
       "    </tr>\n",
       "    <tr>\n",
       "      <th>1</th>\n",
       "      <td>-1.281035</td>\n",
       "      <td>-1.738999</td>\n",
       "      <td>1.195704</td>\n",
       "    </tr>\n",
       "    <tr>\n",
       "      <th>2</th>\n",
       "      <td>-1.352802</td>\n",
       "      <td>-1.700830</td>\n",
       "      <td>-1.715913</td>\n",
       "    </tr>\n",
       "    <tr>\n",
       "      <th>3</th>\n",
       "      <td>-1.137502</td>\n",
       "      <td>-1.700830</td>\n",
       "      <td>1.040418</td>\n",
       "    </tr>\n",
       "    <tr>\n",
       "      <th>4</th>\n",
       "      <td>-0.563369</td>\n",
       "      <td>-1.662660</td>\n",
       "      <td>-0.395980</td>\n",
       "    </tr>\n",
       "    <tr>\n",
       "      <th>...</th>\n",
       "      <td>...</td>\n",
       "      <td>...</td>\n",
       "      <td>...</td>\n",
       "    </tr>\n",
       "    <tr>\n",
       "      <th>195</th>\n",
       "      <td>-0.276302</td>\n",
       "      <td>2.268791</td>\n",
       "      <td>1.118061</td>\n",
       "    </tr>\n",
       "    <tr>\n",
       "      <th>196</th>\n",
       "      <td>0.441365</td>\n",
       "      <td>2.497807</td>\n",
       "      <td>-0.861839</td>\n",
       "    </tr>\n",
       "    <tr>\n",
       "      <th>197</th>\n",
       "      <td>-0.491602</td>\n",
       "      <td>2.497807</td>\n",
       "      <td>0.923953</td>\n",
       "    </tr>\n",
       "    <tr>\n",
       "      <th>198</th>\n",
       "      <td>-0.491602</td>\n",
       "      <td>2.917671</td>\n",
       "      <td>-1.250054</td>\n",
       "    </tr>\n",
       "    <tr>\n",
       "      <th>199</th>\n",
       "      <td>-0.635135</td>\n",
       "      <td>2.917671</td>\n",
       "      <td>1.273347</td>\n",
       "    </tr>\n",
       "  </tbody>\n",
       "</table>\n",
       "<p>200 rows × 3 columns</p>\n",
       "</div>"
      ],
      "text/plain": [
       "          Age  Annual Income  Spending Score\n",
       "0   -1.424569      -1.738999       -0.434801\n",
       "1   -1.281035      -1.738999        1.195704\n",
       "2   -1.352802      -1.700830       -1.715913\n",
       "3   -1.137502      -1.700830        1.040418\n",
       "4   -0.563369      -1.662660       -0.395980\n",
       "..        ...            ...             ...\n",
       "195 -0.276302       2.268791        1.118061\n",
       "196  0.441365       2.497807       -0.861839\n",
       "197 -0.491602       2.497807        0.923953\n",
       "198 -0.491602       2.917671       -1.250054\n",
       "199 -0.635135       2.917671        1.273347\n",
       "\n",
       "[200 rows x 3 columns]"
      ]
     },
     "execution_count": 16,
     "metadata": {},
     "output_type": "execute_result"
    }
   ],
   "source": [
    "sc=StandardScaler()\n",
    "scaled_df=pd.DataFrame(sc.fit_transform(df[['Age','Annual Income (k$)','Spending Score (1-100)']]), columns=['Age','Annual Income','Spending Score'])\n",
    "scaled_df"
   ]
  },
  {
   "cell_type": "code",
   "execution_count": 17,
   "id": "e9f3e2d9",
   "metadata": {},
   "outputs": [],
   "source": [
    "scaled_df['Gender']=df['Gender'].map({'Male':1,'Female':0})"
   ]
  },
  {
   "cell_type": "markdown",
   "id": "208cfeaa",
   "metadata": {},
   "source": [
    "### Value of k"
   ]
  },
  {
   "cell_type": "code",
   "execution_count": 18,
   "id": "84ac7a9c",
   "metadata": {},
   "outputs": [
    {
     "name": "stdout",
     "output_type": "stream",
     "text": [
      "[649.28, 438.5224115567775, 344.40542886953494, 254.28290726083475, 216.7849015165104, 181.9514362434146, 164.80626856108853, 150.75438029921037, 141.77590821132497, 131.2995881966229, 119.07217417789174, 114.32720665047832, 105.03583102348276, 97.54368857193313, 92.61437704881439, 85.80336695282838, 82.52736701256298]\n"
     ]
    }
   ],
   "source": [
    "wcss=[]\n",
    "for i in range(1,18):\n",
    "    kMeans=KMeans(n_clusters=i)\n",
    "    kMeans.fit(scaled_df)\n",
    "    wcss.append(kMeans.inertia_)\n",
    "print(wcss)"
   ]
  },
  {
   "cell_type": "code",
   "execution_count": 19,
   "id": "9f62f5fd",
   "metadata": {},
   "outputs": [
    {
     "data": {
      "text/plain": [
       "<matplotlib.lines.Line2D at 0x1a962937d00>"
      ]
     },
     "execution_count": 19,
     "metadata": {},
     "output_type": "execute_result"
    },
    {
     "data": {
      "image/png": "[encoded data removed]",
      "text/plain": [
       "<Figure size 640x480 with 1 Axes>"
      ]
     },
     "metadata": {},
     "output_type": "display_data"
    }
   ],
   "source": [
    "# elbow plot\n",
    "sns.lineplot(x=range(1,18),y=wcss,marker='*')\n",
    "plt.axvline(6)\n",
    "plt.show()"
   ]
  },
  {
   "cell_type": "raw",
   "id": "9b919a18",
   "metadata": {},
   "source": [
    "model with k=6"
   ]
  },
  {
   "cell_type": "code",
   "execution_count": 20,
   "id": "cd767b39",
   "metadata": {},
   "outputs": [],
   "source": [
    "from sklearn.metrics import silhouette_score"
   ]
  },
  {
   "cell_type": "code",
   "execution_count": 21,
   "id": "f9f661af",
   "metadata": {},
   "outputs": [
    {
     "name": "stdout",
     "output_type": "stream",
     "text": [
      "Initialization complete\n",
      "Iteration 0, inertia 756.7322202958852.\n",
      "Iteration 1, inertia 480.9365291869484.\n",
      "Iteration 2, inertia 450.8743769533505.\n",
      "Iteration 3, inertia 440.38044815739477.\n",
      "Iteration 4, inertia 438.5224115567775.\n",
      "Converged at iteration 4: strict convergence.\n",
      "Initialization complete\n",
      "Iteration 0, inertia 833.5261673019256.\n",
      "Iteration 1, inertia 515.8631847102347.\n",
      "Iteration 2, inertia 514.346269795736.\n",
      "Iteration 3, inertia 513.2434121625001.\n",
      "Iteration 4, inertia 511.9822377185472.\n",
      "Iteration 5, inertia 511.2422916946217.\n",
      "Iteration 6, inertia 506.15402695887707.\n",
      "Iteration 7, inertia 493.1050805135298.\n",
      "Iteration 8, inertia 457.6719738741074.\n",
      "Iteration 9, inertia 441.0828808909619.\n",
      "Iteration 10, inertia 438.77663971558155.\n",
      "Iteration 11, inertia 438.5224115567775.\n",
      "Converged at iteration 11: strict convergence.\n",
      "Initialization complete\n",
      "Iteration 0, inertia 947.9695377336546.\n",
      "Iteration 1, inertia 463.51415963109395.\n",
      "Iteration 2, inertia 443.48897841616366.\n",
      "Iteration 3, inertia 439.8812266460403.\n",
      "Iteration 4, inertia 438.61201996185434.\n",
      "Iteration 5, inertia 438.5224115567775.\n",
      "Converged at iteration 5: strict convergence.\n",
      "Initialization complete\n",
      "Iteration 0, inertia 678.7231337151059.\n",
      "Iteration 1, inertia 448.64658606216517.\n",
      "Iteration 2, inertia 438.97783573750576.\n",
      "Iteration 3, inertia 438.5224115567775.\n",
      "Converged at iteration 3: strict convergence.\n",
      "Initialization complete\n",
      "Iteration 0, inertia 546.8905152524854.\n",
      "Iteration 1, inertia 449.57150925212574.\n",
      "Iteration 2, inertia 440.6894515056111.\n",
      "Iteration 3, inertia 439.41459063736.\n",
      "Iteration 4, inertia 438.64452876912384.\n",
      "Iteration 5, inertia 438.5224115567775.\n",
      "Converged at iteration 5: strict convergence.\n",
      "\n",
      " Silhouette score with 2 clusters: 0.3031976564160757 \n",
      "\n",
      "Initialization complete\n",
      "Iteration 0, inertia 520.7267642939318.\n",
      "Iteration 1, inertia 355.35920551543245.\n",
      "Iteration 2, inertia 348.2362180563366.\n",
      "Iteration 3, inertia 347.2650033200912.\n",
      "Iteration 4, inertia 346.5395209213921.\n",
      "Iteration 5, inertia 346.1418927131976.\n",
      "Iteration 6, inertia 345.9768156069749.\n",
      "Converged at iteration 6: strict convergence.\n",
      "Initialization complete\n",
      "Iteration 0, inertia 467.6235116331856.\n",
      "Iteration 1, inertia 352.07915562121127.\n",
      "Iteration 2, inertia 348.43760031259427.\n",
      "Iteration 3, inertia 347.3002265372495.\n",
      "Iteration 4, inertia 346.0218304778207.\n",
      "Iteration 5, inertia 345.9768156069749.\n",
      "Converged at iteration 5: strict convergence.\n",
      "Initialization complete\n",
      "Iteration 0, inertia 494.326396273244.\n",
      "Iteration 1, inertia 351.2125850026872.\n",
      "Iteration 2, inertia 347.486740414281.\n",
      "Iteration 3, inertia 346.1822308295193.\n",
      "Iteration 4, inertia 345.33415240426217.\n",
      "Iteration 5, inertia 345.2455265099014.\n",
      "Converged at iteration 5: strict convergence.\n",
      "Initialization complete\n",
      "Iteration 0, inertia 522.1752691074797.\n",
      "Iteration 1, inertia 417.1733360032581.\n",
      "Iteration 2, inertia 396.9527176962375.\n",
      "Iteration 3, inertia 359.07353134811444.\n",
      "Iteration 4, inertia 348.02916012005437.\n",
      "Iteration 5, inertia 347.38661605900984.\n",
      "Iteration 6, inertia 346.8485303312784.\n",
      "Iteration 7, inertia 346.36434072409656.\n",
      "Iteration 8, inertia 346.1100510829998.\n",
      "Iteration 9, inertia 346.03755477146717.\n",
      "Converged at iteration 9: strict convergence.\n",
      "Initialization complete\n",
      "Iteration 0, inertia 620.7181159752186.\n",
      "Iteration 1, inertia 416.763491141215.\n",
      "Iteration 2, inertia 377.59313424570405.\n",
      "Iteration 3, inertia 357.3281994142814.\n",
      "Iteration 4, inertia 354.5877734803729.\n",
      "Iteration 5, inertia 354.1754140922988.\n",
      "Iteration 6, inertia 354.07864711715837.\n",
      "Converged at iteration 6: strict convergence.\n",
      "\n",
      " Silhouette score with 3 clusters: 0.3112822733141773 \n",
      "\n",
      "Initialization complete\n",
      "Iteration 0, inertia 458.6138186353195.\n",
      "Iteration 1, inertia 305.379640511483.\n",
      "Iteration 2, inertia 302.49632279669623.\n",
      "Iteration 3, inertia 302.00151708933174.\n",
      "Iteration 4, inertia 301.91086023732805.\n",
      "Iteration 5, inertia 301.7976329722562.\n",
      "Converged at iteration 5: strict convergence.\n",
      "Initialization complete\n",
      "Iteration 0, inertia 459.3010330119715.\n",
      "Iteration 1, inertia 309.61114329847925.\n",
      "Iteration 2, inertia 276.29538270976127.\n",
      "Iteration 3, inertia 256.75399320202814.\n",
      "Iteration 4, inertia 254.46669914390327.\n",
      "Iteration 5, inertia 254.40989633765145.\n",
      "Converged at iteration 5: strict convergence.\n",
      "Initialization complete\n",
      "Iteration 0, inertia 365.05647473834165.\n",
      "Iteration 1, inertia 277.27653387293935.\n",
      "Iteration 2, inertia 256.6766580174329.\n",
      "Iteration 3, inertia 255.53752076620637.\n",
      "Iteration 4, inertia 254.85114534134155.\n",
      "Iteration 5, inertia 254.40989633765145.\n",
      "Converged at iteration 5: strict convergence.\n",
      "Initialization complete\n",
      "Iteration 0, inertia 363.6798346822949.\n",
      "Iteration 1, inertia 258.13158403511875.\n",
      "Iteration 2, inertia 254.4764413526422.\n",
      "Iteration 3, inertia 254.28290726083475.\n",
      "Converged at iteration 3: strict convergence.\n",
      "Initialization complete\n",
      "Iteration 0, inertia 503.3084753411303.\n",
      "Iteration 1, inertia 297.233729992723.\n",
      "Iteration 2, inertia 272.77665868147835.\n",
      "Iteration 3, inertia 269.4786061853272.\n",
      "Iteration 4, inertia 267.51216805977316.\n",
      "Iteration 5, inertia 265.51038763895434.\n",
      "Iteration 6, inertia 257.8853171746954.\n",
      "Iteration 7, inertia 254.4838427026505.\n",
      "Iteration 8, inertia 254.40989633765145.\n",
      "Converged at iteration 8: strict convergence.\n",
      "\n",
      " Silhouette score with 4 clusters: 0.3502702043465398 \n",
      "\n",
      "Initialization complete\n",
      "Iteration 0, inertia 418.51976592210974.\n",
      "Iteration 1, inertia 296.63436254308135.\n",
      "Iteration 2, inertia 289.7752311746822.\n",
      "Iteration 3, inertia 277.7341529397794.\n",
      "Iteration 4, inertia 241.2769844140982.\n",
      "Iteration 5, inertia 219.456890855801.\n",
      "Iteration 6, inertia 217.34766825228755.\n",
      "Converged at iteration 6: strict convergence.\n",
      "Initialization complete\n",
      "Iteration 0, inertia 388.1925477336502.\n",
      "Iteration 1, inertia 247.30889161011683.\n",
      "Iteration 2, inertia 220.31826140775652.\n",
      "Iteration 3, inertia 217.86988866979888.\n",
      "Iteration 4, inertia 217.2150695999643.\n",
      "Iteration 5, inertia 216.7849015165104.\n",
      "Converged at iteration 5: strict convergence.\n",
      "Initialization complete\n",
      "Iteration 0, inertia 361.8713979496598.\n",
      "Iteration 1, inertia 267.6642538631528.\n",
      "Iteration 2, inertia 263.92525788252533.\n",
      "Iteration 3, inertia 258.16217872762.\n",
      "Iteration 4, inertia 254.37306032385075.\n",
      "Iteration 5, inertia 249.32071631053032.\n",
      "Iteration 6, inertia 246.80367285315162.\n",
      "Iteration 7, inertia 242.45806276001318.\n",
      "Iteration 8, inertia 239.79193004152972.\n",
      "Iteration 9, inertia 235.8832562448824.\n",
      "Iteration 10, inertia 231.98547375524282.\n",
      "Iteration 11, inertia 224.9136545437533.\n",
      "Iteration 12, inertia 218.44714098528607.\n",
      "Iteration 13, inertia 217.34686782638636.\n",
      "Iteration 14, inertia 217.2175686583228.\n",
      "Converged at iteration 14: strict convergence.\n",
      "Initialization complete\n",
      "Iteration 0, inertia 319.92661040720816.\n",
      "Iteration 1, inertia 247.4813468720546.\n",
      "Iteration 2, inertia 231.96071906165477.\n",
      "Iteration 3, inertia 219.572273480164.\n",
      "Iteration 4, inertia 217.3802640957201.\n",
      "Iteration 5, inertia 217.2175686583228.\n",
      "Converged at iteration 5: strict convergence.\n",
      "Initialization complete\n",
      "Iteration 0, inertia 351.86125439787617.\n",
      "Iteration 1, inertia 284.44883259795967.\n",
      "Iteration 2, inertia 272.435502871657.\n",
      "Iteration 3, inertia 264.9972091052592.\n",
      "Iteration 4, inertia 261.1256567876447.\n",
      "Iteration 5, inertia 255.12990486564567.\n",
      "Iteration 6, inertia 249.4024196230394.\n",
      "Iteration 7, inertia 239.35411103761822.\n",
      "Iteration 8, inertia 231.171672517055.\n",
      "Iteration 9, inertia 224.88950520642987.\n",
      "Iteration 10, inertia 221.48549822166962.\n",
      "Iteration 11, inertia 219.90574507337936.\n",
      "Iteration 12, inertia 219.3046370044488.\n",
      "Iteration 13, inertia 218.8469020022007.\n",
      "Iteration 14, inertia 218.1099306318982.\n",
      "Iteration 15, inertia 217.37620935478742.\n",
      "Iteration 16, inertia 217.02808107297167.\n",
      "Iteration 17, inertia 216.85928292083838.\n",
      "Converged at iteration 17: strict convergence.\n",
      "\n",
      " Silhouette score with 5 clusters: 0.34977050035201074 \n",
      "\n",
      "Initialization complete\n",
      "Iteration 0, inertia 336.89151772215075.\n",
      "Iteration 1, inertia 204.20895709127313.\n",
      "Iteration 2, inertia 198.8048731402846.\n",
      "Iteration 3, inertia 197.95654822656803.\n",
      "Iteration 4, inertia 197.45287743310078.\n",
      "Converged at iteration 4: strict convergence.\n",
      "Initialization complete\n",
      "Iteration 0, inertia 286.0745213103442.\n",
      "Iteration 1, inertia 200.83306224469544.\n",
      "Iteration 2, inertia 197.93429120980161.\n",
      "Iteration 3, inertia 197.70449114037805.\n",
      "Iteration 4, inertia 197.50965283766016.\n",
      "Converged at iteration 4: strict convergence.\n",
      "Initialization complete\n",
      "Iteration 0, inertia 259.49200477244915.\n",
      "Iteration 1, inertia 189.30258251071442.\n",
      "Iteration 2, inertia 184.3751628397903.\n",
      "Iteration 3, inertia 183.73451817081695.\n",
      "Iteration 4, inertia 183.17982875071868.\n",
      "Iteration 5, inertia 182.86909565500724.\n",
      "Iteration 6, inertia 182.56727908195097.\n",
      "Iteration 7, inertia 182.22684470641957.\n",
      "Converged at iteration 7: strict convergence.\n",
      "Initialization complete\n",
      "Iteration 0, inertia 346.4777851620971.\n",
      "Iteration 1, inertia 220.1996403510061.\n",
      "Iteration 2, inertia 205.1268266588738.\n",
      "Iteration 3, inertia 199.66022467383618.\n",
      "Iteration 4, inertia 192.14150794900962.\n",
      "Iteration 5, inertia 188.929827556229.\n",
      "Iteration 6, inertia 186.93069509911612.\n",
      "Iteration 7, inertia 183.24510942034317.\n"
     ]
    },
    {
     "name": "stdout",
     "output_type": "stream",
     "text": [
      "Iteration 8, inertia 182.0415390799477.\n",
      "Iteration 9, inertia 181.9514362434146.\n",
      "Converged at iteration 9: strict convergence.\n",
      "Initialization complete\n",
      "Iteration 0, inertia 328.79717889477786.\n",
      "Iteration 1, inertia 245.13331450345825.\n",
      "Iteration 2, inertia 228.16178113509767.\n",
      "Iteration 3, inertia 217.3494773941475.\n",
      "Iteration 4, inertia 210.38695484108192.\n",
      "Iteration 5, inertia 209.3420560996036.\n",
      "Iteration 6, inertia 209.03412127059772.\n",
      "Iteration 7, inertia 208.85275342476382.\n",
      "Iteration 8, inertia 208.68003269883488.\n",
      "Converged at iteration 8: strict convergence.\n",
      "\n",
      " Silhouette score with 6 clusters: 0.356485834425401 \n",
      "\n",
      "Initialization complete\n",
      "Iteration 0, inertia 274.21696630518716.\n",
      "Iteration 1, inertia 172.01931109114992.\n",
      "Iteration 2, inertia 165.11815682969424.\n",
      "Iteration 3, inertia 164.77249848423293.\n",
      "Converged at iteration 3: strict convergence.\n",
      "Initialization complete\n",
      "Iteration 0, inertia 282.88866338231566.\n",
      "Iteration 1, inertia 197.54902775323026.\n",
      "Iteration 2, inertia 194.3163404258373.\n",
      "Iteration 3, inertia 193.02266770972022.\n",
      "Iteration 4, inertia 192.49466403421314.\n",
      "Iteration 5, inertia 192.04462332518358.\n",
      "Converged at iteration 5: strict convergence.\n",
      "Initialization complete\n",
      "Iteration 0, inertia 267.64289476009304.\n",
      "Iteration 1, inertia 177.398753810178.\n",
      "Iteration 2, inertia 170.7594030965443.\n",
      "Iteration 3, inertia 170.12675787029815.\n",
      "Iteration 4, inertia 169.9737947416097.\n",
      "Iteration 5, inertia 169.85868583353658.\n",
      "Iteration 6, inertia 169.65759221427808.\n",
      "Converged at iteration 6: strict convergence.\n",
      "Initialization complete\n",
      "Iteration 0, inertia 254.02226997558603.\n",
      "Iteration 1, inertia 170.5495544863644.\n",
      "Iteration 2, inertia 169.12655944395203.\n",
      "Iteration 3, inertia 168.88318924268248.\n",
      "Iteration 4, inertia 168.5960633890304.\n",
      "Iteration 5, inertia 168.32655106665305.\n",
      "Iteration 6, inertia 167.95672037389141.\n",
      "Iteration 7, inertia 167.82134357397922.\n",
      "Converged at iteration 7: strict convergence.\n",
      "Initialization complete\n",
      "Iteration 0, inertia 268.5625349411745.\n",
      "Iteration 1, inertia 186.42756971721207.\n",
      "Iteration 2, inertia 181.13580883317786.\n",
      "Iteration 3, inertia 177.6154926790674.\n",
      "Iteration 4, inertia 172.38704239287952.\n",
      "Iteration 5, inertia 171.45605468320502.\n",
      "Iteration 6, inertia 171.37266048943812.\n",
      "Converged at iteration 6: strict convergence.\n",
      "\n",
      " Silhouette score with 7 clusters: 0.33507086573125766 \n",
      "\n",
      "Initialization complete\n",
      "Iteration 0, inertia 260.75318421955615.\n",
      "Iteration 1, inertia 193.8459927582928.\n",
      "Iteration 2, inertia 178.89949568387362.\n",
      "Iteration 3, inertia 162.7631772056024.\n",
      "Iteration 4, inertia 158.4015715245958.\n",
      "Iteration 5, inertia 157.91100883940825.\n",
      "Iteration 6, inertia 157.2571880441818.\n",
      "Iteration 7, inertia 156.88637762607547.\n",
      "Converged at iteration 7: strict convergence.\n",
      "Initialization complete\n",
      "Iteration 0, inertia 238.27938143861485.\n",
      "Iteration 1, inertia 175.8673768359413.\n",
      "Iteration 2, inertia 162.00013452593814.\n",
      "Iteration 3, inertia 160.9523422627848.\n",
      "Iteration 4, inertia 159.98527144590656.\n",
      "Iteration 5, inertia 159.78444571287534.\n",
      "Converged at iteration 5: strict convergence.\n",
      "Initialization complete\n",
      "Iteration 0, inertia 257.98827147736296.\n",
      "Iteration 1, inertia 185.18747861848854.\n",
      "Iteration 2, inertia 178.41792739921038.\n",
      "Iteration 3, inertia 175.05542090496965.\n",
      "Iteration 4, inertia 173.74399590918085.\n",
      "Iteration 5, inertia 172.31210911710133.\n",
      "Iteration 6, inertia 170.85780824344965.\n",
      "Iteration 7, inertia 167.4857311363765.\n",
      "Iteration 8, inertia 164.65417141265794.\n",
      "Iteration 9, inertia 161.89380862165058.\n",
      "Iteration 10, inertia 159.32715844084248.\n",
      "Iteration 11, inertia 154.62460646964865.\n",
      "Iteration 12, inertia 151.87476792531487.\n",
      "Iteration 13, inertia 151.53969637480242.\n",
      "Converged at iteration 13: strict convergence.\n",
      "Initialization complete\n",
      "Iteration 0, inertia 255.66269074128965.\n",
      "Iteration 1, inertia 174.51704761306056.\n",
      "Iteration 2, inertia 159.7939721087805.\n",
      "Iteration 3, inertia 156.50370738712598.\n",
      "Iteration 4, inertia 155.08479755725497.\n",
      "Iteration 5, inertia 154.95825770105108.\n",
      "Converged at iteration 5: strict convergence.\n",
      "Initialization complete\n",
      "Iteration 0, inertia 233.66838242204653.\n",
      "Iteration 1, inertia 157.6822980654006.\n",
      "Iteration 2, inertia 153.65425290599956.\n",
      "Iteration 3, inertia 153.44900339866032.\n",
      "Converged at iteration 3: strict convergence.\n",
      "\n",
      " Silhouette score with 8 clusters: 0.3281483687497676 \n",
      "\n",
      "Initialization complete\n",
      "Iteration 0, inertia 218.74219358263434.\n",
      "Iteration 1, inertia 162.2444556429698.\n",
      "Iteration 2, inertia 155.34140023963405.\n",
      "Iteration 3, inertia 151.0015404844902.\n",
      "Iteration 4, inertia 147.99272755676046.\n",
      "Iteration 5, inertia 147.46759508906203.\n",
      "Iteration 6, inertia 146.80203031493252.\n",
      "Iteration 7, inertia 146.59741124929812.\n",
      "Converged at iteration 7: strict convergence.\n",
      "Initialization complete\n",
      "Iteration 0, inertia 224.71093949245875.\n",
      "Iteration 1, inertia 156.1745014428975.\n",
      "Iteration 2, inertia 148.5098198277338.\n",
      "Iteration 3, inertia 145.07764924852717.\n",
      "Iteration 4, inertia 140.81701895087298.\n",
      "Iteration 5, inertia 139.43627960804764.\n",
      "Iteration 6, inertia 139.28059820520605.\n",
      "Converged at iteration 6: strict convergence.\n",
      "Initialization complete\n",
      "Iteration 0, inertia 223.0485984910125.\n",
      "Iteration 1, inertia 158.15184426601354.\n",
      "Iteration 2, inertia 150.1043351539844.\n",
      "Iteration 3, inertia 148.42113133017702.\n",
      "Iteration 4, inertia 147.92816829494265.\n",
      "Converged at iteration 4: strict convergence.\n",
      "Initialization complete\n",
      "Iteration 0, inertia 205.77507445352947.\n",
      "Iteration 1, inertia 156.12077684429892.\n",
      "Iteration 2, inertia 147.77330080028102.\n",
      "Iteration 3, inertia 146.7670227026777.\n",
      "Iteration 4, inertia 145.94056640118805.\n",
      "Iteration 5, inertia 145.5820092123881.\n",
      "Iteration 6, inertia 145.4522594533682.\n",
      "Converged at iteration 6: strict convergence.\n",
      "Initialization complete\n",
      "Iteration 0, inertia 224.73479571745435.\n",
      "Iteration 1, inertia 169.47363704847172.\n",
      "Iteration 2, inertia 166.20413883860354.\n",
      "Iteration 3, inertia 162.734388864857.\n",
      "Iteration 4, inertia 160.30061698663962.\n",
      "Iteration 5, inertia 159.79608456603262.\n",
      "Iteration 6, inertia 158.40706876990583.\n",
      "Iteration 7, inertia 157.96926242532922.\n",
      "Iteration 8, inertia 157.8310567703947.\n",
      "Converged at iteration 8: strict convergence.\n",
      "\n",
      " Silhouette score with 9 clusters: 0.33812758641933827 \n",
      "\n"
     ]
    }
   ],
   "source": [
    "for i in range(2,10):\n",
    "    kmmodel=KMeans(n_clusters=i, n_init=5, random_state=0, verbose=1)\n",
    "    a=kmmodel.fit_predict(scaled_df)\n",
    "    print('\\n Silhouette score with {} clusters:'.format(i),silhouette_score(scaled_df, a),'\\n')"
   ]
  },
  {
   "cell_type": "code",
   "execution_count": 22,
   "id": "534e15a1",
   "metadata": {},
   "outputs": [],
   "source": [
    "KMeans_model=KMeans(n_clusters=6, n_init=5, random_state=0, verbose=1)"
   ]
  },
  {
   "cell_type": "code",
   "execution_count": 23,
   "id": "108d1100",
   "metadata": {
    "scrolled": true
   },
   "outputs": [
    {
     "name": "stdout",
     "output_type": "stream",
     "text": [
      "Initialization complete\n",
      "Iteration 0, inertia 336.89151772215075.\n",
      "Iteration 1, inertia 204.20895709127313.\n",
      "Iteration 2, inertia 198.8048731402846.\n",
      "Iteration 3, inertia 197.95654822656803.\n",
      "Iteration 4, inertia 197.45287743310078.\n",
      "Converged at iteration 4: strict convergence.\n",
      "Initialization complete\n",
      "Iteration 0, inertia 286.0745213103442.\n",
      "Iteration 1, inertia 200.83306224469544.\n",
      "Iteration 2, inertia 197.93429120980161.\n",
      "Iteration 3, inertia 197.70449114037805.\n",
      "Iteration 4, inertia 197.50965283766016.\n",
      "Converged at iteration 4: strict convergence.\n",
      "Initialization complete\n",
      "Iteration 0, inertia 259.49200477244915.\n",
      "Iteration 1, inertia 189.30258251071442.\n",
      "Iteration 2, inertia 184.3751628397903.\n",
      "Iteration 3, inertia 183.73451817081695.\n",
      "Iteration 4, inertia 183.17982875071868.\n",
      "Iteration 5, inertia 182.86909565500724.\n",
      "Iteration 6, inertia 182.56727908195097.\n",
      "Iteration 7, inertia 182.22684470641957.\n",
      "Converged at iteration 7: strict convergence.\n",
      "Initialization complete\n",
      "Iteration 0, inertia 346.4777851620971.\n",
      "Iteration 1, inertia 220.1996403510061.\n",
      "Iteration 2, inertia 205.1268266588738.\n",
      "Iteration 3, inertia 199.66022467383618.\n",
      "Iteration 4, inertia 192.14150794900962.\n",
      "Iteration 5, inertia 188.929827556229.\n",
      "Iteration 6, inertia 186.93069509911612.\n",
      "Iteration 7, inertia 183.24510942034317.\n",
      "Iteration 8, inertia 182.0415390799477.\n",
      "Iteration 9, inertia 181.9514362434146.\n",
      "Converged at iteration 9: strict convergence.\n",
      "Initialization complete\n",
      "Iteration 0, inertia 328.79717889477786.\n",
      "Iteration 1, inertia 245.13331450345825.\n",
      "Iteration 2, inertia 228.16178113509767.\n",
      "Iteration 3, inertia 217.3494773941475.\n",
      "Iteration 4, inertia 210.38695484108192.\n",
      "Iteration 5, inertia 209.3420560996036.\n",
      "Iteration 6, inertia 209.03412127059772.\n",
      "Iteration 7, inertia 208.85275342476382.\n",
      "Iteration 8, inertia 208.68003269883488.\n",
      "Converged at iteration 8: strict convergence.\n"
     ]
    },
    {
     "data": {
      "text/html": [
       "<style>#sk-container-id-1 {color: black;background-color: white;}#sk-container-id-1 pre{padding: 0;}#sk-container-id-1 div.sk-toggleable {background-color: white;}#sk-container-id-1 label.sk-toggleable__label {cursor: pointer;display: block;width: 100%;margin-bottom: 0;padding: 0.3em;box-sizing: border-box;text-align: center;}#sk-container-id-1 label.sk-toggleable__label-arrow:before {content: \"▸\";float: left;margin-right: 0.25em;color: #696969;}#sk-container-id-1 label.sk-toggleable__label-arrow:hover:before {color: black;}#sk-container-id-1 div.sk-estimator:hover label.sk-toggleable__label-arrow:before {color: black;}#sk-container-id-1 div.sk-toggleable__content {max-height: 0;max-width: 0;overflow: hidden;text-align: left;background-color: #f0f8ff;}#sk-container-id-1 div.sk-toggleable__content pre {margin: 0.2em;color: black;border-radius: 0.25em;background-color: #f0f8ff;}#sk-container-id-1 input.sk-toggleable__control:checked~div.sk-toggleable__content {max-height: 200px;max-width: 100%;overflow: auto;}#sk-container-id-1 input.sk-toggleable__control:checked~label.sk-toggleable__label-arrow:before {content: \"▾\";}#sk-container-id-1 div.sk-estimator input.sk-toggleable__control:checked~label.sk-toggleable__label {background-color: #d4ebff;}#sk-container-id-1 div.sk-label input.sk-toggleable__control:checked~label.sk-toggleable__label {background-color: #d4ebff;}#sk-container-id-1 input.sk-hidden--visually {border: 0;clip: rect(1px 1px 1px 1px);clip: rect(1px, 1px, 1px, 1px);height: 1px;margin: -1px;overflow: hidden;padding: 0;position: absolute;width: 1px;}#sk-container-id-1 div.sk-estimator {font-family: monospace;background-color: #f0f8ff;border: 1px dotted black;border-radius: 0.25em;box-sizing: border-box;margin-bottom: 0.5em;}#sk-container-id-1 div.sk-estimator:hover {background-color: #d4ebff;}#sk-container-id-1 div.sk-parallel-item::after {content: \"\";width: 100%;border-bottom: 1px solid gray;flex-grow: 1;}#sk-container-id-1 div.sk-label:hover label.sk-toggleable__label {background-color: #d4ebff;}#sk-container-id-1 div.sk-serial::before {content: \"\";position: absolute;border-left: 1px solid gray;box-sizing: border-box;top: 0;bottom: 0;left: 50%;z-index: 0;}#sk-container-id-1 div.sk-serial {display: flex;flex-direction: column;align-items: center;background-color: white;padding-right: 0.2em;padding-left: 0.2em;position: relative;}#sk-container-id-1 div.sk-item {position: relative;z-index: 1;}#sk-container-id-1 div.sk-parallel {display: flex;align-items: stretch;justify-content: center;background-color: white;position: relative;}#sk-container-id-1 div.sk-item::before, #sk-container-id-1 div.sk-parallel-item::before {content: \"\";position: absolute;border-left: 1px solid gray;box-sizing: border-box;top: 0;bottom: 0;left: 50%;z-index: -1;}#sk-container-id-1 div.sk-parallel-item {display: flex;flex-direction: column;z-index: 1;position: relative;background-color: white;}#sk-container-id-1 div.sk-parallel-item:first-child::after {align-self: flex-end;width: 50%;}#sk-container-id-1 div.sk-parallel-item:last-child::after {align-self: flex-start;width: 50%;}#sk-container-id-1 div.sk-parallel-item:only-child::after {width: 0;}#sk-container-id-1 div.sk-dashed-wrapped {border: 1px dashed gray;margin: 0 0.4em 0.5em 0.4em;box-sizing: border-box;padding-bottom: 0.4em;background-color: white;}#sk-container-id-1 div.sk-label label {font-family: monospace;font-weight: bold;display: inline-block;line-height: 1.2em;}#sk-container-id-1 div.sk-label-container {text-align: center;}#sk-container-id-1 div.sk-container {/* jupyter's `normalize.less` sets `[hidden] { display: none; }` but bootstrap.min.css set `[hidden] { display: none !important; }` so we also need the `!important` here to be able to override the default hidden behavior on the sphinx rendered scikit-learn.org. See: https://github.com/scikit-learn/scikit-learn/issues/21755 */display: inline-block !important;position: relative;}#sk-container-id-1 div.sk-text-repr-fallback {display: none;}</style><div id=\"sk-container-id-1\" class=\"sk-top-container\"><div class=\"sk-text-repr-fallback\"><pre>KMeans(n_clusters=6, n_init=5, random_state=0, verbose=1)</pre><b>In a Jupyter environment, please rerun this cell to show the HTML representation or trust the notebook. <br />On GitHub, the HTML representation is unable to render, please try loading this page with nbviewer.org.</b></div><div class=\"sk-container\" hidden><div class=\"sk-item\"><div class=\"sk-estimator sk-toggleable\"><input class=\"sk-toggleable__control sk-hidden--visually\" id=\"sk-estimator-id-1\" type=\"checkbox\" checked><label for=\"sk-estimator-id-1\" class=\"sk-toggleable__label sk-toggleable__label-arrow\">KMeans</label><div class=\"sk-toggleable__content\"><pre>KMeans(n_clusters=6, n_init=5, random_state=0, verbose=1)</pre></div></div></div></div></div>"
      ],
      "text/plain": [
       "KMeans(n_clusters=6, n_init=5, random_state=0, verbose=1)"
      ]
     },
     "execution_count": 23,
     "metadata": {},
     "output_type": "execute_result"
    }
   ],
   "source": [
    "KMeans_model.fit(scaled_df)"
   ]
  },
  {
   "cell_type": "code",
   "execution_count": 24,
   "id": "477685b5",
   "metadata": {
    "scrolled": true
   },
   "outputs": [
    {
     "data": {
      "text/plain": [
       "181.9514362434146"
      ]
     },
     "execution_count": 24,
     "metadata": {},
     "output_type": "execute_result"
    }
   ],
   "source": [
    "KMeans_model.inertia_"
   ]
  },
  {
   "cell_type": "code",
   "execution_count": 25,
   "id": "182388c0",
   "metadata": {
    "scrolled": true
   },
   "outputs": [
    {
     "data": {
      "text/plain": [
       "array([2, 2, 4, 2, 4, 2, 4, 2, 4, 2, 4, 2, 4, 2, 4, 2, 4, 2, 4, 2, 4, 2,\n",
       "       4, 2, 4, 2, 4, 2, 4, 2, 4, 2, 4, 2, 4, 2, 4, 2, 4, 2, 3, 2, 4, 0,\n",
       "       4, 2, 3, 0, 0, 0, 3, 0, 0, 3, 3, 3, 3, 3, 0, 3, 3, 0, 3, 3, 3, 0,\n",
       "       3, 3, 0, 0, 3, 3, 3, 3, 3, 0, 3, 0, 0, 3, 3, 0, 3, 3, 0, 3, 3, 0,\n",
       "       0, 3, 3, 0, 3, 0, 0, 0, 3, 0, 3, 0, 0, 3, 3, 0, 3, 0, 3, 3, 3, 3,\n",
       "       3, 0, 0, 0, 0, 0, 3, 3, 3, 3, 0, 0, 0, 1, 0, 1, 5, 1, 5, 1, 5, 1,\n",
       "       0, 1, 5, 1, 5, 1, 5, 1, 5, 1, 0, 1, 5, 1, 5, 1, 5, 1, 5, 1, 5, 1,\n",
       "       5, 1, 5, 1, 5, 1, 3, 1, 5, 1, 5, 1, 5, 1, 5, 1, 5, 1, 5, 1, 5, 1,\n",
       "       5, 1, 5, 1, 5, 1, 5, 1, 5, 1, 5, 1, 5, 1, 5, 1, 5, 1, 5, 1, 5, 1,\n",
       "       5, 1])"
      ]
     },
     "execution_count": 25,
     "metadata": {},
     "output_type": "execute_result"
    }
   ],
   "source": [
    "KMeans_model.labels_"
   ]
  },
  {
   "cell_type": "code",
   "execution_count": 26,
   "id": "4ca70c4e",
   "metadata": {
    "scrolled": true
   },
   "outputs": [
    {
     "data": {
      "text/plain": [
       "array([[-0.85043527, -0.14894113, -0.04147777,  0.34210526],\n",
       "       [-0.44191719,  0.99158305,  1.23950275,  0.46153846],\n",
       "       [-0.99396865, -1.34734766,  1.06404834,  0.43478261],\n",
       "       [ 1.25472096, -0.24021294, -0.04399777,  0.42222222],\n",
       "       [ 0.47895722, -1.30822992, -1.19644353,  0.38095238],\n",
       "       [ 0.17329545,  1.06645385, -1.2980103 ,  0.58823529]])"
      ]
     },
     "execution_count": 26,
     "metadata": {},
     "output_type": "execute_result"
    }
   ],
   "source": [
    "KMeans_model.cluster_centers_"
   ]
  },
  {
   "cell_type": "code",
   "execution_count": 27,
   "id": "527a1492",
   "metadata": {},
   "outputs": [],
   "source": [
    "df['label']=KMeans_model.labels_"
   ]
  },
  {
   "cell_type": "code",
   "execution_count": 28,
   "id": "8545f1ff",
   "metadata": {},
   "outputs": [
    {
     "data": {
      "text/html": [
       "<div>\n",
       "<style scoped>\n",
       "    .dataframe tbody tr th:only-of-type {\n",
       "        vertical-align: middle;\n",
       "    }\n",
       "\n",
       "    .dataframe tbody tr th {\n",
       "        vertical-align: top;\n",
       "    }\n",
       "\n",
       "    .dataframe thead th {\n",
       "        text-align: right;\n",
       "    }\n",
       "</style>\n",
       "<table border=\"1\" class=\"dataframe\">\n",
       "  <thead>\n",
       "    <tr style=\"text-align: right;\">\n",
       "      <th></th>\n",
       "      <th>CustomerID</th>\n",
       "      <th>Gender</th>\n",
       "      <th>Age</th>\n",
       "      <th>Annual Income (k$)</th>\n",
       "      <th>Spending Score (1-100)</th>\n",
       "      <th>label</th>\n",
       "    </tr>\n",
       "  </thead>\n",
       "  <tbody>\n",
       "    <tr>\n",
       "      <th>0</th>\n",
       "      <td>1</td>\n",
       "      <td>Male</td>\n",
       "      <td>19</td>\n",
       "      <td>15</td>\n",
       "      <td>39</td>\n",
       "      <td>2</td>\n",
       "    </tr>\n",
       "    <tr>\n",
       "      <th>1</th>\n",
       "      <td>2</td>\n",
       "      <td>Male</td>\n",
       "      <td>21</td>\n",
       "      <td>15</td>\n",
       "      <td>81</td>\n",
       "      <td>2</td>\n",
       "    </tr>\n",
       "    <tr>\n",
       "      <th>2</th>\n",
       "      <td>3</td>\n",
       "      <td>Female</td>\n",
       "      <td>20</td>\n",
       "      <td>16</td>\n",
       "      <td>6</td>\n",
       "      <td>4</td>\n",
       "    </tr>\n",
       "    <tr>\n",
       "      <th>3</th>\n",
       "      <td>4</td>\n",
       "      <td>Female</td>\n",
       "      <td>23</td>\n",
       "      <td>16</td>\n",
       "      <td>77</td>\n",
       "      <td>2</td>\n",
       "    </tr>\n",
       "    <tr>\n",
       "      <th>4</th>\n",
       "      <td>5</td>\n",
       "      <td>Female</td>\n",
       "      <td>31</td>\n",
       "      <td>17</td>\n",
       "      <td>40</td>\n",
       "      <td>4</td>\n",
       "    </tr>\n",
       "  </tbody>\n",
       "</table>\n",
       "</div>"
      ],
      "text/plain": [
       "   CustomerID  Gender  Age  Annual Income (k$)  Spending Score (1-100)  label\n",
       "0           1    Male   19                  15                      39      2\n",
       "1           2    Male   21                  15                      81      2\n",
       "2           3  Female   20                  16                       6      4\n",
       "3           4  Female   23                  16                      77      2\n",
       "4           5  Female   31                  17                      40      4"
      ]
     },
     "execution_count": 28,
     "metadata": {},
     "output_type": "execute_result"
    }
   ],
   "source": [
    "df.head()"
   ]
  },
  {
   "cell_type": "markdown",
   "id": "8e54bfbd",
   "metadata": {},
   "source": [
    "### Analysis"
   ]
  },
  {
   "cell_type": "code",
   "execution_count": 29,
   "id": "739b04ce",
   "metadata": {
    "scrolled": false
   },
   "outputs": [
    {
     "data": {
      "text/html": [
       "<div>\n",
       "<style scoped>\n",
       "    .dataframe tbody tr th:only-of-type {\n",
       "        vertical-align: middle;\n",
       "    }\n",
       "\n",
       "    .dataframe tbody tr th {\n",
       "        vertical-align: top;\n",
       "    }\n",
       "\n",
       "    .dataframe thead th {\n",
       "        text-align: right;\n",
       "    }\n",
       "</style>\n",
       "<table border=\"1\" class=\"dataframe\">\n",
       "  <thead>\n",
       "    <tr style=\"text-align: right;\">\n",
       "      <th></th>\n",
       "      <th>count</th>\n",
       "      <th>mean</th>\n",
       "      <th>std</th>\n",
       "      <th>min</th>\n",
       "      <th>25%</th>\n",
       "      <th>50%</th>\n",
       "      <th>75%</th>\n",
       "      <th>max</th>\n",
       "    </tr>\n",
       "  </thead>\n",
       "  <tbody>\n",
       "    <tr>\n",
       "      <th>CustomerID</th>\n",
       "      <td>38.0</td>\n",
       "      <td>90.052632</td>\n",
       "      <td>26.689351</td>\n",
       "      <td>44.0</td>\n",
       "      <td>69.25</td>\n",
       "      <td>93.0</td>\n",
       "      <td>112.75</td>\n",
       "      <td>143.0</td>\n",
       "    </tr>\n",
       "    <tr>\n",
       "      <th>Age</th>\n",
       "      <td>38.0</td>\n",
       "      <td>27.000000</td>\n",
       "      <td>7.032742</td>\n",
       "      <td>18.0</td>\n",
       "      <td>21.00</td>\n",
       "      <td>26.5</td>\n",
       "      <td>31.75</td>\n",
       "      <td>40.0</td>\n",
       "    </tr>\n",
       "    <tr>\n",
       "      <th>Annual Income (k$)</th>\n",
       "      <td>38.0</td>\n",
       "      <td>56.657895</td>\n",
       "      <td>9.905708</td>\n",
       "      <td>39.0</td>\n",
       "      <td>48.00</td>\n",
       "      <td>59.5</td>\n",
       "      <td>63.75</td>\n",
       "      <td>76.0</td>\n",
       "    </tr>\n",
       "    <tr>\n",
       "      <th>Spending Score (1-100)</th>\n",
       "      <td>38.0</td>\n",
       "      <td>49.131579</td>\n",
       "      <td>7.853975</td>\n",
       "      <td>29.0</td>\n",
       "      <td>42.00</td>\n",
       "      <td>50.0</td>\n",
       "      <td>55.00</td>\n",
       "      <td>61.0</td>\n",
       "    </tr>\n",
       "    <tr>\n",
       "      <th>label</th>\n",
       "      <td>38.0</td>\n",
       "      <td>0.000000</td>\n",
       "      <td>0.000000</td>\n",
       "      <td>0.0</td>\n",
       "      <td>0.00</td>\n",
       "      <td>0.0</td>\n",
       "      <td>0.00</td>\n",
       "      <td>0.0</td>\n",
       "    </tr>\n",
       "  </tbody>\n",
       "</table>\n",
       "</div>"
      ],
      "text/plain": [
       "                        count       mean        std   min    25%   50%  \\\n",
       "CustomerID               38.0  90.052632  26.689351  44.0  69.25  93.0   \n",
       "Age                      38.0  27.000000   7.032742  18.0  21.00  26.5   \n",
       "Annual Income (k$)       38.0  56.657895   9.905708  39.0  48.00  59.5   \n",
       "Spending Score (1-100)   38.0  49.131579   7.853975  29.0  42.00  50.0   \n",
       "label                    38.0   0.000000   0.000000   0.0   0.00   0.0   \n",
       "\n",
       "                           75%    max  \n",
       "CustomerID              112.75  143.0  \n",
       "Age                      31.75   40.0  \n",
       "Annual Income (k$)       63.75   76.0  \n",
       "Spending Score (1-100)   55.00   61.0  \n",
       "label                     0.00    0.0  "
      ]
     },
     "execution_count": 29,
     "metadata": {},
     "output_type": "execute_result"
    }
   ],
   "source": [
    "# 0\n",
    "df[df['label']==0].describe().T"
   ]
  },
  {
   "cell_type": "raw",
   "id": "246303a5",
   "metadata": {},
   "source": [
    "Annual income average - 56.65\n",
    "Spending score average - 49.13\n",
    "annual income moderate, spending score moderate, average age low"
   ]
  },
  {
   "cell_type": "code",
   "execution_count": 30,
   "id": "ee6f961b",
   "metadata": {
    "scrolled": true
   },
   "outputs": [
    {
     "data": {
      "text/html": [
       "<div>\n",
       "<style scoped>\n",
       "    .dataframe tbody tr th:only-of-type {\n",
       "        vertical-align: middle;\n",
       "    }\n",
       "\n",
       "    .dataframe tbody tr th {\n",
       "        vertical-align: top;\n",
       "    }\n",
       "\n",
       "    .dataframe thead th {\n",
       "        text-align: right;\n",
       "    }\n",
       "</style>\n",
       "<table border=\"1\" class=\"dataframe\">\n",
       "  <thead>\n",
       "    <tr style=\"text-align: right;\">\n",
       "      <th></th>\n",
       "      <th>count</th>\n",
       "      <th>mean</th>\n",
       "      <th>std</th>\n",
       "      <th>min</th>\n",
       "      <th>25%</th>\n",
       "      <th>50%</th>\n",
       "      <th>75%</th>\n",
       "      <th>max</th>\n",
       "    </tr>\n",
       "  </thead>\n",
       "  <tbody>\n",
       "    <tr>\n",
       "      <th>CustomerID</th>\n",
       "      <td>39.0</td>\n",
       "      <td>162.000000</td>\n",
       "      <td>22.803509</td>\n",
       "      <td>124.0</td>\n",
       "      <td>143.0</td>\n",
       "      <td>162.0</td>\n",
       "      <td>181.0</td>\n",
       "      <td>200.0</td>\n",
       "    </tr>\n",
       "    <tr>\n",
       "      <th>Age</th>\n",
       "      <td>39.0</td>\n",
       "      <td>32.692308</td>\n",
       "      <td>3.728650</td>\n",
       "      <td>27.0</td>\n",
       "      <td>30.0</td>\n",
       "      <td>32.0</td>\n",
       "      <td>35.5</td>\n",
       "      <td>40.0</td>\n",
       "    </tr>\n",
       "    <tr>\n",
       "      <th>Annual Income (k$)</th>\n",
       "      <td>39.0</td>\n",
       "      <td>86.538462</td>\n",
       "      <td>16.312485</td>\n",
       "      <td>69.0</td>\n",
       "      <td>75.5</td>\n",
       "      <td>79.0</td>\n",
       "      <td>95.0</td>\n",
       "      <td>137.0</td>\n",
       "    </tr>\n",
       "    <tr>\n",
       "      <th>Spending Score (1-100)</th>\n",
       "      <td>39.0</td>\n",
       "      <td>82.128205</td>\n",
       "      <td>9.364489</td>\n",
       "      <td>63.0</td>\n",
       "      <td>74.5</td>\n",
       "      <td>83.0</td>\n",
       "      <td>90.0</td>\n",
       "      <td>97.0</td>\n",
       "    </tr>\n",
       "    <tr>\n",
       "      <th>label</th>\n",
       "      <td>39.0</td>\n",
       "      <td>1.000000</td>\n",
       "      <td>0.000000</td>\n",
       "      <td>1.0</td>\n",
       "      <td>1.0</td>\n",
       "      <td>1.0</td>\n",
       "      <td>1.0</td>\n",
       "      <td>1.0</td>\n",
       "    </tr>\n",
       "  </tbody>\n",
       "</table>\n",
       "</div>"
      ],
      "text/plain": [
       "                        count        mean        std    min    25%    50%  \\\n",
       "CustomerID               39.0  162.000000  22.803509  124.0  143.0  162.0   \n",
       "Age                      39.0   32.692308   3.728650   27.0   30.0   32.0   \n",
       "Annual Income (k$)       39.0   86.538462  16.312485   69.0   75.5   79.0   \n",
       "Spending Score (1-100)   39.0   82.128205   9.364489   63.0   74.5   83.0   \n",
       "label                    39.0    1.000000   0.000000    1.0    1.0    1.0   \n",
       "\n",
       "                          75%    max  \n",
       "CustomerID              181.0  200.0  \n",
       "Age                      35.5   40.0  \n",
       "Annual Income (k$)       95.0  137.0  \n",
       "Spending Score (1-100)   90.0   97.0  \n",
       "label                     1.0    1.0  "
      ]
     },
     "execution_count": 30,
     "metadata": {},
     "output_type": "execute_result"
    }
   ],
   "source": [
    "# 1\n",
    "df[df['label']==1].describe().T"
   ]
  },
  {
   "cell_type": "raw",
   "id": "2082380b",
   "metadata": {},
   "source": [
    "Annual income average - 86.53\n",
    "Spending score average - 82.12\n",
    "annual income high, spending score high"
   ]
  },
  {
   "cell_type": "code",
   "execution_count": 31,
   "id": "33ec1763",
   "metadata": {},
   "outputs": [
    {
     "data": {
      "text/html": [
       "<div>\n",
       "<style scoped>\n",
       "    .dataframe tbody tr th:only-of-type {\n",
       "        vertical-align: middle;\n",
       "    }\n",
       "\n",
       "    .dataframe tbody tr th {\n",
       "        vertical-align: top;\n",
       "    }\n",
       "\n",
       "    .dataframe thead th {\n",
       "        text-align: right;\n",
       "    }\n",
       "</style>\n",
       "<table border=\"1\" class=\"dataframe\">\n",
       "  <thead>\n",
       "    <tr style=\"text-align: right;\">\n",
       "      <th></th>\n",
       "      <th>count</th>\n",
       "      <th>mean</th>\n",
       "      <th>std</th>\n",
       "      <th>min</th>\n",
       "      <th>25%</th>\n",
       "      <th>50%</th>\n",
       "      <th>75%</th>\n",
       "      <th>max</th>\n",
       "    </tr>\n",
       "  </thead>\n",
       "  <tbody>\n",
       "    <tr>\n",
       "      <th>CustomerID</th>\n",
       "      <td>23.0</td>\n",
       "      <td>22.130435</td>\n",
       "      <td>13.645860</td>\n",
       "      <td>1.0</td>\n",
       "      <td>11.0</td>\n",
       "      <td>22.0</td>\n",
       "      <td>33.0</td>\n",
       "      <td>46.0</td>\n",
       "    </tr>\n",
       "    <tr>\n",
       "      <th>Age</th>\n",
       "      <td>23.0</td>\n",
       "      <td>25.000000</td>\n",
       "      <td>5.300086</td>\n",
       "      <td>18.0</td>\n",
       "      <td>21.0</td>\n",
       "      <td>23.0</td>\n",
       "      <td>29.5</td>\n",
       "      <td>35.0</td>\n",
       "    </tr>\n",
       "    <tr>\n",
       "      <th>Annual Income (k$)</th>\n",
       "      <td>23.0</td>\n",
       "      <td>25.260870</td>\n",
       "      <td>7.723738</td>\n",
       "      <td>15.0</td>\n",
       "      <td>19.0</td>\n",
       "      <td>24.0</td>\n",
       "      <td>31.5</td>\n",
       "      <td>39.0</td>\n",
       "    </tr>\n",
       "    <tr>\n",
       "      <th>Spending Score (1-100)</th>\n",
       "      <td>23.0</td>\n",
       "      <td>77.608696</td>\n",
       "      <td>13.272457</td>\n",
       "      <td>39.0</td>\n",
       "      <td>73.0</td>\n",
       "      <td>77.0</td>\n",
       "      <td>84.5</td>\n",
       "      <td>99.0</td>\n",
       "    </tr>\n",
       "    <tr>\n",
       "      <th>label</th>\n",
       "      <td>23.0</td>\n",
       "      <td>2.000000</td>\n",
       "      <td>0.000000</td>\n",
       "      <td>2.0</td>\n",
       "      <td>2.0</td>\n",
       "      <td>2.0</td>\n",
       "      <td>2.0</td>\n",
       "      <td>2.0</td>\n",
       "    </tr>\n",
       "  </tbody>\n",
       "</table>\n",
       "</div>"
      ],
      "text/plain": [
       "                        count       mean        std   min   25%   50%   75%  \\\n",
       "CustomerID               23.0  22.130435  13.645860   1.0  11.0  22.0  33.0   \n",
       "Age                      23.0  25.000000   5.300086  18.0  21.0  23.0  29.5   \n",
       "Annual Income (k$)       23.0  25.260870   7.723738  15.0  19.0  24.0  31.5   \n",
       "Spending Score (1-100)   23.0  77.608696  13.272457  39.0  73.0  77.0  84.5   \n",
       "label                    23.0   2.000000   0.000000   2.0   2.0   2.0   2.0   \n",
       "\n",
       "                         max  \n",
       "CustomerID              46.0  \n",
       "Age                     35.0  \n",
       "Annual Income (k$)      39.0  \n",
       "Spending Score (1-100)  99.0  \n",
       "label                    2.0  "
      ]
     },
     "execution_count": 31,
     "metadata": {},
     "output_type": "execute_result"
    }
   ],
   "source": [
    "#2\n",
    "df[df['label']==2].describe().T"
   ]
  },
  {
   "cell_type": "raw",
   "id": "7fcdf10f",
   "metadata": {},
   "source": [
    "Annual income average - 25.26\n",
    "Spending score average - 77.60\n",
    "annual income low, spending score high"
   ]
  },
  {
   "cell_type": "code",
   "execution_count": 32,
   "id": "4c964d87",
   "metadata": {},
   "outputs": [
    {
     "data": {
      "text/html": [
       "<div>\n",
       "<style scoped>\n",
       "    .dataframe tbody tr th:only-of-type {\n",
       "        vertical-align: middle;\n",
       "    }\n",
       "\n",
       "    .dataframe tbody tr th {\n",
       "        vertical-align: top;\n",
       "    }\n",
       "\n",
       "    .dataframe thead th {\n",
       "        text-align: right;\n",
       "    }\n",
       "</style>\n",
       "<table border=\"1\" class=\"dataframe\">\n",
       "  <thead>\n",
       "    <tr style=\"text-align: right;\">\n",
       "      <th></th>\n",
       "      <th>count</th>\n",
       "      <th>mean</th>\n",
       "      <th>std</th>\n",
       "      <th>min</th>\n",
       "      <th>25%</th>\n",
       "      <th>50%</th>\n",
       "      <th>75%</th>\n",
       "      <th>max</th>\n",
       "    </tr>\n",
       "  </thead>\n",
       "  <tbody>\n",
       "    <tr>\n",
       "      <th>CustomerID</th>\n",
       "      <td>45.0</td>\n",
       "      <td>83.777778</td>\n",
       "      <td>24.911561</td>\n",
       "      <td>41.0</td>\n",
       "      <td>64.0</td>\n",
       "      <td>81.0</td>\n",
       "      <td>103.0</td>\n",
       "      <td>161.0</td>\n",
       "    </tr>\n",
       "    <tr>\n",
       "      <th>Age</th>\n",
       "      <td>45.0</td>\n",
       "      <td>56.333333</td>\n",
       "      <td>8.453079</td>\n",
       "      <td>43.0</td>\n",
       "      <td>49.0</td>\n",
       "      <td>54.0</td>\n",
       "      <td>65.0</td>\n",
       "      <td>70.0</td>\n",
       "    </tr>\n",
       "    <tr>\n",
       "      <th>Annual Income (k$)</th>\n",
       "      <td>45.0</td>\n",
       "      <td>54.266667</td>\n",
       "      <td>8.975725</td>\n",
       "      <td>38.0</td>\n",
       "      <td>47.0</td>\n",
       "      <td>54.0</td>\n",
       "      <td>62.0</td>\n",
       "      <td>79.0</td>\n",
       "    </tr>\n",
       "    <tr>\n",
       "      <th>Spending Score (1-100)</th>\n",
       "      <td>45.0</td>\n",
       "      <td>49.066667</td>\n",
       "      <td>6.300794</td>\n",
       "      <td>35.0</td>\n",
       "      <td>45.0</td>\n",
       "      <td>49.0</td>\n",
       "      <td>55.0</td>\n",
       "      <td>60.0</td>\n",
       "    </tr>\n",
       "    <tr>\n",
       "      <th>label</th>\n",
       "      <td>45.0</td>\n",
       "      <td>3.000000</td>\n",
       "      <td>0.000000</td>\n",
       "      <td>3.0</td>\n",
       "      <td>3.0</td>\n",
       "      <td>3.0</td>\n",
       "      <td>3.0</td>\n",
       "      <td>3.0</td>\n",
       "    </tr>\n",
       "  </tbody>\n",
       "</table>\n",
       "</div>"
      ],
      "text/plain": [
       "                        count       mean        std   min   25%   50%    75%  \\\n",
       "CustomerID               45.0  83.777778  24.911561  41.0  64.0  81.0  103.0   \n",
       "Age                      45.0  56.333333   8.453079  43.0  49.0  54.0   65.0   \n",
       "Annual Income (k$)       45.0  54.266667   8.975725  38.0  47.0  54.0   62.0   \n",
       "Spending Score (1-100)   45.0  49.066667   6.300794  35.0  45.0  49.0   55.0   \n",
       "label                    45.0   3.000000   0.000000   3.0   3.0   3.0    3.0   \n",
       "\n",
       "                          max  \n",
       "CustomerID              161.0  \n",
       "Age                      70.0  \n",
       "Annual Income (k$)       79.0  \n",
       "Spending Score (1-100)   60.0  \n",
       "label                     3.0  "
      ]
     },
     "execution_count": 32,
     "metadata": {},
     "output_type": "execute_result"
    }
   ],
   "source": [
    "#3\n",
    "df[df['label']==3].describe().T"
   ]
  },
  {
   "cell_type": "raw",
   "id": "f545ab54",
   "metadata": {},
   "source": [
    "Annual income average - 54.26\n",
    "Spending score average - 49.06\n",
    "annual income moderate, spending score moderate, average age high"
   ]
  },
  {
   "cell_type": "code",
   "execution_count": 33,
   "id": "8a85195b",
   "metadata": {
    "scrolled": false
   },
   "outputs": [
    {
     "data": {
      "text/html": [
       "<div>\n",
       "<style scoped>\n",
       "    .dataframe tbody tr th:only-of-type {\n",
       "        vertical-align: middle;\n",
       "    }\n",
       "\n",
       "    .dataframe tbody tr th {\n",
       "        vertical-align: top;\n",
       "    }\n",
       "\n",
       "    .dataframe thead th {\n",
       "        text-align: right;\n",
       "    }\n",
       "</style>\n",
       "<table border=\"1\" class=\"dataframe\">\n",
       "  <thead>\n",
       "    <tr style=\"text-align: right;\">\n",
       "      <th></th>\n",
       "      <th>count</th>\n",
       "      <th>mean</th>\n",
       "      <th>std</th>\n",
       "      <th>min</th>\n",
       "      <th>25%</th>\n",
       "      <th>50%</th>\n",
       "      <th>75%</th>\n",
       "      <th>max</th>\n",
       "    </tr>\n",
       "  </thead>\n",
       "  <tbody>\n",
       "    <tr>\n",
       "      <th>CustomerID</th>\n",
       "      <td>21.0</td>\n",
       "      <td>23.190476</td>\n",
       "      <td>12.726425</td>\n",
       "      <td>3.0</td>\n",
       "      <td>13.0</td>\n",
       "      <td>23.0</td>\n",
       "      <td>33.0</td>\n",
       "      <td>45.0</td>\n",
       "    </tr>\n",
       "    <tr>\n",
       "      <th>Age</th>\n",
       "      <td>21.0</td>\n",
       "      <td>45.523810</td>\n",
       "      <td>11.766984</td>\n",
       "      <td>20.0</td>\n",
       "      <td>36.0</td>\n",
       "      <td>46.0</td>\n",
       "      <td>53.0</td>\n",
       "      <td>67.0</td>\n",
       "    </tr>\n",
       "    <tr>\n",
       "      <th>Annual Income (k$)</th>\n",
       "      <td>21.0</td>\n",
       "      <td>26.285714</td>\n",
       "      <td>7.437357</td>\n",
       "      <td>16.0</td>\n",
       "      <td>20.0</td>\n",
       "      <td>25.0</td>\n",
       "      <td>33.0</td>\n",
       "      <td>39.0</td>\n",
       "    </tr>\n",
       "    <tr>\n",
       "      <th>Spending Score (1-100)</th>\n",
       "      <td>21.0</td>\n",
       "      <td>19.380952</td>\n",
       "      <td>12.555780</td>\n",
       "      <td>3.0</td>\n",
       "      <td>6.0</td>\n",
       "      <td>15.0</td>\n",
       "      <td>31.0</td>\n",
       "      <td>40.0</td>\n",
       "    </tr>\n",
       "    <tr>\n",
       "      <th>label</th>\n",
       "      <td>21.0</td>\n",
       "      <td>4.000000</td>\n",
       "      <td>0.000000</td>\n",
       "      <td>4.0</td>\n",
       "      <td>4.0</td>\n",
       "      <td>4.0</td>\n",
       "      <td>4.0</td>\n",
       "      <td>4.0</td>\n",
       "    </tr>\n",
       "  </tbody>\n",
       "</table>\n",
       "</div>"
      ],
      "text/plain": [
       "                        count       mean        std   min   25%   50%   75%  \\\n",
       "CustomerID               21.0  23.190476  12.726425   3.0  13.0  23.0  33.0   \n",
       "Age                      21.0  45.523810  11.766984  20.0  36.0  46.0  53.0   \n",
       "Annual Income (k$)       21.0  26.285714   7.437357  16.0  20.0  25.0  33.0   \n",
       "Spending Score (1-100)   21.0  19.380952  12.555780   3.0   6.0  15.0  31.0   \n",
       "label                    21.0   4.000000   0.000000   4.0   4.0   4.0   4.0   \n",
       "\n",
       "                         max  \n",
       "CustomerID              45.0  \n",
       "Age                     67.0  \n",
       "Annual Income (k$)      39.0  \n",
       "Spending Score (1-100)  40.0  \n",
       "label                    4.0  "
      ]
     },
     "execution_count": 33,
     "metadata": {},
     "output_type": "execute_result"
    }
   ],
   "source": [
    "#4\n",
    "df[df['label']==4].describe().T"
   ]
  },
  {
   "cell_type": "raw",
   "id": "9349f087",
   "metadata": {},
   "source": [
    "Annual income average - 26.28\n",
    "Spending score average - 19.38\n",
    "annual income low, spending score low"
   ]
  },
  {
   "cell_type": "code",
   "execution_count": 34,
   "id": "3391a5e6",
   "metadata": {
    "scrolled": true
   },
   "outputs": [
    {
     "data": {
      "text/html": [
       "<div>\n",
       "<style scoped>\n",
       "    .dataframe tbody tr th:only-of-type {\n",
       "        vertical-align: middle;\n",
       "    }\n",
       "\n",
       "    .dataframe tbody tr th {\n",
       "        vertical-align: top;\n",
       "    }\n",
       "\n",
       "    .dataframe thead th {\n",
       "        text-align: right;\n",
       "    }\n",
       "</style>\n",
       "<table border=\"1\" class=\"dataframe\">\n",
       "  <thead>\n",
       "    <tr style=\"text-align: right;\">\n",
       "      <th></th>\n",
       "      <th>count</th>\n",
       "      <th>mean</th>\n",
       "      <th>std</th>\n",
       "      <th>min</th>\n",
       "      <th>25%</th>\n",
       "      <th>50%</th>\n",
       "      <th>75%</th>\n",
       "      <th>max</th>\n",
       "    </tr>\n",
       "  </thead>\n",
       "  <tbody>\n",
       "    <tr>\n",
       "      <th>CustomerID</th>\n",
       "      <td>34.0</td>\n",
       "      <td>164.529412</td>\n",
       "      <td>21.664432</td>\n",
       "      <td>127.0</td>\n",
       "      <td>147.50</td>\n",
       "      <td>166.0</td>\n",
       "      <td>182.50</td>\n",
       "      <td>199.0</td>\n",
       "    </tr>\n",
       "    <tr>\n",
       "      <th>Age</th>\n",
       "      <td>34.0</td>\n",
       "      <td>41.264706</td>\n",
       "      <td>10.768385</td>\n",
       "      <td>19.0</td>\n",
       "      <td>34.50</td>\n",
       "      <td>42.5</td>\n",
       "      <td>47.00</td>\n",
       "      <td>59.0</td>\n",
       "    </tr>\n",
       "    <tr>\n",
       "      <th>Annual Income (k$)</th>\n",
       "      <td>34.0</td>\n",
       "      <td>88.500000</td>\n",
       "      <td>16.533254</td>\n",
       "      <td>71.0</td>\n",
       "      <td>77.25</td>\n",
       "      <td>85.5</td>\n",
       "      <td>97.75</td>\n",
       "      <td>137.0</td>\n",
       "    </tr>\n",
       "    <tr>\n",
       "      <th>Spending Score (1-100)</th>\n",
       "      <td>34.0</td>\n",
       "      <td>16.764706</td>\n",
       "      <td>9.881292</td>\n",
       "      <td>1.0</td>\n",
       "      <td>10.00</td>\n",
       "      <td>15.5</td>\n",
       "      <td>22.75</td>\n",
       "      <td>39.0</td>\n",
       "    </tr>\n",
       "    <tr>\n",
       "      <th>label</th>\n",
       "      <td>34.0</td>\n",
       "      <td>5.000000</td>\n",
       "      <td>0.000000</td>\n",
       "      <td>5.0</td>\n",
       "      <td>5.00</td>\n",
       "      <td>5.0</td>\n",
       "      <td>5.00</td>\n",
       "      <td>5.0</td>\n",
       "    </tr>\n",
       "  </tbody>\n",
       "</table>\n",
       "</div>"
      ],
      "text/plain": [
       "                        count        mean        std    min     25%    50%  \\\n",
       "CustomerID               34.0  164.529412  21.664432  127.0  147.50  166.0   \n",
       "Age                      34.0   41.264706  10.768385   19.0   34.50   42.5   \n",
       "Annual Income (k$)       34.0   88.500000  16.533254   71.0   77.25   85.5   \n",
       "Spending Score (1-100)   34.0   16.764706   9.881292    1.0   10.00   15.5   \n",
       "label                    34.0    5.000000   0.000000    5.0    5.00    5.0   \n",
       "\n",
       "                           75%    max  \n",
       "CustomerID              182.50  199.0  \n",
       "Age                      47.00   59.0  \n",
       "Annual Income (k$)       97.75  137.0  \n",
       "Spending Score (1-100)   22.75   39.0  \n",
       "label                     5.00    5.0  "
      ]
     },
     "execution_count": 34,
     "metadata": {},
     "output_type": "execute_result"
    }
   ],
   "source": [
    "#5\n",
    "df[df['label']==5].describe().T"
   ]
  },
  {
   "cell_type": "raw",
   "id": "ed057815",
   "metadata": {},
   "source": [
    "Annual income average - 88.50\n",
    "Spending score average - 16.76\n",
    "annual income high, spending score low"
   ]
  },
  {
   "cell_type": "code",
   "execution_count": null,
   "id": "8add6992",
   "metadata": {},
   "outputs": [],
   "source": []
  },
  {
   "cell_type": "markdown",
   "id": "15456c16",
   "metadata": {},
   "source": [
    "### Inference"
   ]
  },
  {
   "cell_type": "raw",
   "id": "f5110ae4",
   "metadata": {},
   "source": [
    "group 5 is the most important catagory, with high annual income and the spending score very low. So by analysing and with business strategies, this group can be made to spend more"
   ]
  }
 ],
 "metadata": {
  "kernelspec": {
   "display_name": "Python 3 (ipykernel)",
   "language": "python",
   "name": "python3"
  },
  "language_info": {
   "codemirror_mode": {
    "name": "ipython",
    "version": 3
   },
   "file_extension": ".py",
   "mimetype": "text/x-python",
   "name": "python",
   "nbconvert_exporter": "python",
   "pygments_lexer": "ipython3",
   "version": "3.10.9"
  }
 },
 "nbformat": 4,
 "nbformat_minor": 5
}
